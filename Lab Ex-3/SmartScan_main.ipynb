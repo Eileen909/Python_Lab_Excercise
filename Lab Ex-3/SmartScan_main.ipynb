{
 "cells": [
  {
   "cell_type": "code",
   "execution_count": null,
   "id": "9e1cd386-fec8-4e59-a4ed-7fc89f6b2c2d",
   "metadata": {},
   "outputs": [],
   "source": [
    "# b)"
   ]
  },
  {
   "cell_type": "code",
   "execution_count": 51,
   "id": "fa879406-165c-4bc2-9b8f-d81f4e1c9bf7",
   "metadata": {},
   "outputs": [
    {
     "name": "stdout",
     "output_type": "stream",
     "text": [
      "Collecting qrcode[pil]\n",
      "  Downloading qrcode-7.4.2-py3-none-any.whl.metadata (17 kB)\n",
      "Requirement already satisfied: typing-extensions in c:\\users\\hp\\anaconda3\\lib\\site-packages (from qrcode[pil]) (4.11.0)\n",
      "Requirement already satisfied: pypng in c:\\users\\hp\\anaconda3\\lib\\site-packages (from qrcode[pil]) (0.20220715.0)\n",
      "Requirement already satisfied: colorama in c:\\users\\hp\\anaconda3\\lib\\site-packages (from qrcode[pil]) (0.4.6)\n",
      "Requirement already satisfied: pillow>=9.1.0 in c:\\users\\hp\\anaconda3\\lib\\site-packages (from qrcode[pil]) (10.3.0)\n",
      "Downloading qrcode-7.4.2-py3-none-any.whl (46 kB)\n",
      "   ---------------------------------------- 0.0/46.2 kB ? eta -:--:--\n",
      "   ----------------------------------- ---- 41.0/46.2 kB 960.0 kB/s eta 0:00:01\n",
      "   ---------------------------------------- 46.2/46.2 kB 765.0 kB/s eta 0:00:00\n",
      "Installing collected packages: qrcode\n",
      "Successfully installed qrcode-7.4.2\n",
      "Note: you may need to restart the kernel to use updated packages.\n"
     ]
    }
   ],
   "source": [
    "pip install qrcode[pil]\n"
   ]
  },
  {
   "cell_type": "code",
   "execution_count": null,
   "id": "83c11b61-3b81-4817-bddf-041e1e26ad56",
   "metadata": {},
   "outputs": [],
   "source": []
  },
  {
   "cell_type": "code",
   "execution_count": 2,
   "id": "43d7b49c-7d73-4609-ba8a-7b39fd15b16e",
   "metadata": {},
   "outputs": [],
   "source": [
    "import smartscan_registration_module\n",
    "ss_code=[\"AllenParker,allenp@gmail.com\", \"KaranKumar,karankrai@outlook.com\", \"TinaJoe,tina12@gmail.com\"]"
   ]
  },
  {
   "cell_type": "code",
   "execution_count": 4,
   "id": "d6d4deeb-b663-4ac6-93f5-4ae12690d3c3",
   "metadata": {},
   "outputs": [
    {
     "name": "stdout",
     "output_type": "stream",
     "text": [
      "['AllenParker,allenp@gmail.com', 'KaranKumar,karankrai@outlook.com', 'TinaJoe,tina12@gmail.com']\n"
     ]
    }
   ],
   "source": [
    "print(ss_code)"
   ]
  },
  {
   "cell_type": "code",
   "execution_count": 6,
   "id": "888a5412-1f41-4872-9f54-f434e00ebccd",
   "metadata": {},
   "outputs": [
    {
     "name": "stdout",
     "output_type": "stream",
     "text": [
      "Name:AllenParker, Email:allenp@gmail.com\n",
      "Name:KaranKumar, Email:karankrai@outlook.com\n",
      "Name:TinaJoe, Email:tina12@gmail.com\n",
      "The list of all registered users:\n",
      " [{'name': 'AllenParker', 'email': 'allenp@gmail.com'}, {'name': 'KaranKumar', 'email': 'karankrai@outlook.com'}, {'name': 'TinaJoe', 'email': 'tina12@gmail.com'}]\n"
     ]
    }
   ],
   "source": [
    "# Using the RegisterUserFromSmartScan function\n",
    "for code in ss_code:\n",
    "    smartscan_registration_module.RegisterUserFromSmartScan(code)\n",
    "print(\"The list of all registered users:\\n\",smartscan_registration_module.fetch_all_users())"
   ]
  },
  {
   "cell_type": "code",
   "execution_count": null,
   "id": "aaf4ced8-e997-4cd9-84e1-bfb63dec3192",
   "metadata": {},
   "outputs": [],
   "source": []
  },
  {
   "cell_type": "code",
   "execution_count": 28,
   "id": "f2b8debd-234b-48e7-ab83-7f12dbc332d3",
   "metadata": {},
   "outputs": [],
   "source": [
    "# To import the necessary libraries for QR code generation\n",
    "import qrcode\n",
    "import os"
   ]
  },
  {
   "cell_type": "code",
   "execution_count": 44,
   "id": "802c6e17-bce4-47e6-8a22-091734585d7e",
   "metadata": {},
   "outputs": [
    {
     "name": "stdout",
     "output_type": "stream",
     "text": [
      "QR code saved as C:\\Users\\hp\\Documents\\qr_codes\\Allen_Parker.png\n",
      "QR code saved as C:\\Users\\hp\\Documents\\qr_codes\\Karan_Kumar.png\n",
      "QR code saved as C:\\Users\\hp\\Documents\\qr_codes\\Tina_Joe.png\n"
     ]
    }
   ],
   "source": [
    "def generate_qr_code(name, email, filename):\n",
    "    data = f\"{name},{email}\"\n",
    "    \n",
    "    # To generate the QR code\n",
    "    qr = qrcode.QRCode(\n",
    "        version=1,\n",
    "        error_correction=qrcode.constants.ERROR_CORRECT_L,\n",
    "        box_size=10,\n",
    "        border=4,\n",
    "    )\n",
    "    qr.add_data(data)\n",
    "    qr.make(fit=True)\n",
    "    \n",
    "    img = qr.make_image(fill='black', back_color='white') # To create an image file for QR code\n",
    "    img.save(filename)\n",
    "    print(f\"QR code saved as {filename}\")\n",
    "\n",
    "def generate_qr_codes_for_users(users, directory='qr_codes'):\n",
    "    os.makedirs(directory, exist_ok=True) # to check if the directory exists\n",
    "    \n",
    "    for user in users:\n",
    "        name, email = user['name'], user['email']\n",
    "        filename = os.path.join(directory, f\"{name.replace(' ', '_')}.png\")\n",
    "        generate_qr_code(name, email, filename)\n",
    "\n",
    "# All user data to add 3 different QR codes\n",
    "users = [{\"name\": \"Allen Parker\", \"email\": \"allenp@gmail.com\"},\n",
    "    {\"name\": \"Karan Kumar\", \"email\": \"karankrai@outlook.com\"},\n",
    "    {\"name\": \"Tina Joe\", \"email\": \"tina12@gmail.com\"}]\n",
    "\n",
    "dir_path = 'C:\\\\Users\\\\hp\\\\Documents\\\\qr_codes' # To save the QR code to local file\n",
    "generate_qr_codes_for_users(users, dir_path)\n"
   ]
  },
  {
   "cell_type": "code",
   "execution_count": null,
   "id": "c8777308-d5fe-4d23-9309-44e7d4fd75bc",
   "metadata": {},
   "outputs": [],
   "source": []
  }
 ],
 "metadata": {
  "kernelspec": {
   "display_name": "Python 3 (ipykernel)",
   "language": "python",
   "name": "python3"
  },
  "language_info": {
   "codemirror_mode": {
    "name": "ipython",
    "version": 3
   },
   "file_extension": ".py",
   "mimetype": "text/x-python",
   "name": "python",
   "nbconvert_exporter": "python",
   "pygments_lexer": "ipython3",
   "version": "3.12.4"
  }
 },
 "nbformat": 4,
 "nbformat_minor": 5
}
