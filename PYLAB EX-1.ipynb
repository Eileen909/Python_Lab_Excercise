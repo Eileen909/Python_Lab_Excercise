{
 "cells": [
  {
   "cell_type": "code",
   "execution_count": 4,
   "id": "0bc23f60",
   "metadata": {},
   "outputs": [],
   "source": [
    "# 1. Declaring a List Datatype \n",
    "a=[10, 2.3, 8, 7, 6, 5, 4, 3/6, 2, 1]"
   ]
  },
  {
   "cell_type": "code",
   "execution_count": 7,
   "id": "af355643",
   "metadata": {},
   "outputs": [
    {
     "name": "stdout",
     "output_type": "stream",
     "text": [
      "The sum of all the items in list a: 45.8\n"
     ]
    }
   ],
   "source": [
    "# a. Sum of all the items in the list\n",
    "def list_sum(items):\n",
    "    return sum(items)\n",
    "print(\"The sum of all the items in list a:\",list_sum(a))"
   ]
  },
  {
   "cell_type": "code",
   "execution_count": 6,
   "id": "aaaec7d7",
   "metadata": {},
   "outputs": [
    {
     "name": "stdout",
     "output_type": "stream",
     "text": [
      "The result of multiplying the items of the list is: 154560.0\n"
     ]
    }
   ],
   "source": [
    "# b. Multiply all the items in the list\n",
    "from functools import reduce\n",
    "result = reduce(lambda x, y: x * y, a)\n",
    "print(\"The result of multiplying the items of the list is:\", result)"
   ]
  },
  {
   "cell_type": "code",
   "execution_count": 8,
   "id": "21c6c6d1",
   "metadata": {},
   "outputs": [
    {
     "name": "stdout",
     "output_type": "stream",
     "text": [
      "10\n"
     ]
    }
   ],
   "source": [
    "# c. To find the largest number in the list\n",
    "print(max(a))"
   ]
  },
  {
   "cell_type": "code",
   "execution_count": 9,
   "id": "c57454a6",
   "metadata": {},
   "outputs": [
    {
     "name": "stdout",
     "output_type": "stream",
     "text": [
      "The smallest number in the list is: 0.5\n"
     ]
    }
   ],
   "source": [
    "# d. To find the smallest number in the list\n",
    "x=a[0]\n",
    "for num in a:\n",
    "    if num<x:\n",
    "        x=num\n",
    "print(\"The smallest number in the list is:\",x)"
   ]
  },
  {
   "cell_type": "code",
   "execution_count": 15,
   "id": "20329e15",
   "metadata": {},
   "outputs": [
    {
     "name": "stdout",
     "output_type": "stream",
     "text": [
      "String: 'aba', Index: 2\n",
      "String: '1221', Index: 3\n"
     ]
    }
   ],
   "source": [
    "# 2. Using a given list, print the string and index number such that the first and last characters are identical\n",
    "A = ['abc', 'xyz', 'aba', '1221']\n",
    "\n",
    "# Iterating through the list to find strings with identical first and last characters\n",
    "for index, item in enumerate(A):\n",
    "    if isinstance(item, str) and item[0] == item[-1]:\n",
    "        print(f\"String: '{item}', Index: {index}\")\n",
    "\n"
   ]
  },
  {
   "cell_type": "code",
   "execution_count": 20,
   "id": "f1c229e3",
   "metadata": {},
   "outputs": [
    {
     "name": "stdout",
     "output_type": "stream",
     "text": [
      "A \n",
      "A B \n",
      "A B C \n",
      "A B C D \n",
      "A B C D E \n",
      "* \n",
      "* * \n",
      "* * * \n",
      "* * * * \n",
      "* * * * * \n"
     ]
    }
   ],
   "source": [
    "# 3. Tp print an \"ABCDE\" and \"*\" triangle\n",
    "row= 5 \n",
    "for i in range(1, row+1):\n",
    "    for j in range(i):\n",
    "        print(chr(65 + j), end=\" \")\n",
    "    print()\n",
    "\n",
    "    \n",
    "# Printing the asterisk pattern\n",
    "for i in range(1, row+1):\n",
    "    for j in range(i):\n",
    "        print(\"*\", end=\" \")\n",
    "    print()\n"
   ]
  },
  {
   "cell_type": "code",
   "execution_count": 23,
   "id": "805bc078",
   "metadata": {},
   "outputs": [
    {
     "name": "stdout",
     "output_type": "stream",
     "text": [
      "[{'colorName': 'Black', 'colorCode': '000000'}, {'colorName': 'Red', 'colorCode': 'FF0000'}, {'colorName': 'Maroon', 'colorCode': '800000'}, {'colorName': 'Yellow', 'colorCode': 'FFFF00'}]\n"
     ]
    }
   ],
   "source": [
    "# 4. To convert a list to a list of dictionaries\n",
    "\n",
    "# Given list\n",
    "ListColour= [\"Black\", \"Red\", \"Maroon\", \"Yellow\"], [\"000000\", \"FF0000\",\n",
    "\"800000\", \"FFFF00\"]\n",
    "\n",
    "# Break the list into two different lists\n",
    "clr_names = [\"Black\", \"Red\", \"Maroon\", \"Yellow\"]\n",
    "clr_codes = [\"000000\", \"FF0000\", \"800000\", \"FFFF00\"]\n",
    "\n",
    "list_dict= [{\"colorName\": name, \"colorCode\": code} for name, code in zip(clr_names, clr_codes)]\n",
    "\n",
    "print(list_dict)\n"
   ]
  },
  {
   "cell_type": "code",
   "execution_count": 37,
   "id": "8d1e0172",
   "metadata": {},
   "outputs": [
    {
     "name": "stdout",
     "output_type": "stream",
     "text": [
      " Even No: 2, Square: 4\n",
      " Even No: 4, Square: 16\n",
      " Even No: 6, Square: 36\n",
      " Even No: 8, Square: 64\n",
      " Even No: 10, Square: 100\n",
      " Even No: 12, Square: 144\n",
      " Even No: 14, Square: 196\n",
      " Even No: 16, Square: 256\n",
      " Even No: 18, Square: 324\n",
      " Even No: 20, Square: 400\n",
      " Even No: 22, Square: 484\n",
      " Even No: 24, Square: 576\n",
      " Even No: 26, Square: 676\n",
      " Even No: 28, Square: 784\n",
      " Even No: 30, Square: 900\n",
      " Even No: 32, Square: 1024\n",
      " Even No: 34, Square: 1156\n",
      " Even No: 36, Square: 1296\n",
      " Even No: 38, Square: 1444\n",
      " Even No: 40, Square: 1600\n",
      " Even No: 42, Square: 1764\n",
      " Even No: 44, Square: 1936\n",
      " Even No: 46, Square: 2116\n",
      " Even No: 48, Square: 2304\n",
      "\n",
      " Even No: 2, Square: 4\n",
      " Even No: 4, Square: 16\n",
      " Even No: 6, Square: 36\n",
      " Even No: 8, Square: 64\n",
      " Even No: 10, Square: 100\n",
      " Even No: 12, Square: 144\n",
      " Even No: 14, Square: 196\n",
      " Even No: 16, Square: 256\n",
      " Even No: 18, Square: 324\n",
      " Even No: 20, Square: 400\n",
      " Even No: 22, Square: 484\n",
      " Even No: 24, Square: 576\n",
      " Even No: 26, Square: 676\n",
      " Even No: 28, Square: 784\n",
      " Even No: 30, Square: 900\n",
      " Even No: 32, Square: 1024\n",
      " Even No: 34, Square: 1156\n",
      " Even No: 36, Square: 1296\n",
      " Even No: 38, Square: 1444\n",
      " Even No: 40, Square: 1600\n",
      " Even No: 42, Square: 1764\n",
      " Even No: 44, Square: 1936\n",
      " Even No: 46, Square: 2116\n",
      " Even No: 48, Square: 2304\n",
      " Even No: 50, Square: 2500\n",
      " Even No: 52, Square: 2704\n",
      " Even No: 54, Square: 2916\n",
      " Even No: 56, Square: 3136\n",
      " Even No: 58, Square: 3364\n",
      " Even No: 60, Square: 3600\n",
      " Even No: 62, Square: 3844\n",
      " Even No: 64, Square: 4096\n",
      " Even No: 66, Square: 4356\n",
      " Even No: 68, Square: 4624\n",
      " Even No: 70, Square: 4900\n",
      " Even No: 72, Square: 5184\n",
      " Even No: 74, Square: 5476\n",
      " Even No: 76, Square: 5776\n",
      " Even No: 78, Square: 6084\n",
      " Even No: 80, Square: 6400\n",
      " Even No: 82, Square: 6724\n",
      " Even No: 84, Square: 7056\n",
      " Even No: 86, Square: 7396\n",
      " Even No: 88, Square: 7744\n",
      " Even No: 90, Square: 8100\n",
      " Even No: 92, Square: 8464\n",
      " Even No: 94, Square: 8836\n",
      " Even No: 96, Square: 9216\n",
      " Even No: 98, Square: 9604\n"
     ]
    }
   ],
   "source": [
    "# 5. To print the even numbers and their square between a specified range\n",
    "\n",
    "# range(1,50)\n",
    "#print(\"Even numbers and their squares in the range 1 to 50:\")\n",
    "for num in range(1, 50):\n",
    "    if num % 2 == 0:\n",
    "        print(f\" Even No: {num}, Square: {num ** 2}\")\n",
    "\n",
    "print()\n",
    "\n",
    "# range(1,100)\n",
    "for num in range(1, 100):\n",
    "    if num % 2 == 0:\n",
    "        print(f\" Even No: {num}, Square: {num ** 2}\")\n",
    "\n"
   ]
  },
  {
   "cell_type": "code",
   "execution_count": 56,
   "id": "9b3508b0",
   "metadata": {},
   "outputs": [
    {
     "name": "stdout",
     "output_type": "stream",
     "text": [
      "Enter a 4-digit number:4322\n",
      "Sum of digits: 11\n",
      "Reverse of the digits: 2234\n"
     ]
    }
   ],
   "source": [
    "# 6. Code to input a 4 digit number and find the sum of digits and its reverse\n",
    "a=input(\"Enter a 4-digit number:\")\n",
    "if len(a)!= 4:\n",
    "    print(\"Re-enter a 4-digit number!\")\n",
    "else:\n",
    "    num=int(a)\n",
    "    sum_a=sum(int(digit) for digit in a)\n",
    "    print(f\"Sum of digits: {sum_a}\")\n",
    "    reverse_a = a[::-1]\n",
    "    print(f\"Reverse of the digits: {reverse_a}\")\n"
   ]
  },
  {
   "cell_type": "code",
   "execution_count": 60,
   "id": "90bd7c6b",
   "metadata": {},
   "outputs": [
    {
     "name": "stdout",
     "output_type": "stream",
     "text": [
      "Enter the first side of the first triangle:3\n",
      "Enter the second side of the first triangle:5\n",
      "Enter the third side of the first triangle:4\n",
      "Enter the first side of the second triangle:5\n",
      "Enter the second side of the second triangle:4\n",
      "Enter the third side of the second triangle:3\n",
      "Area of the first triangle: 6.00\n",
      "Area of the second triangle: 6.00\n",
      "Total area enclosed by both triangles: 12.00\n",
      "First triangle's contribution to the total area: 50.00%\n",
      "Second triangle's contribution to the total area: 50.00%\n"
     ]
    }
   ],
   "source": [
    "# 7. Area of a triangle using the input function and to find the percentage contribution of each triangle\n",
    "import math\n",
    "def area_triangle(a, b, c):\n",
    "    s = (a + b + c) / 2   # to calculate the semi-perimeter(s)\n",
    "    area = math.sqrt(s*(s-a)*(s-b)*(s-c))\n",
    "    return area\n",
    "\n",
    "# First triangle\n",
    "a1 = int(input(\"Enter the first side of the first triangle:\"))\n",
    "b1 = int(input(\"Enter the second side of the first triangle:\"))\n",
    "c1 = int(input(\"Enter the third side of the first triangle:\"))\n",
    "\n",
    "# Second triangle\n",
    "a2 = int(input(\"Enter the first side of the second triangle:\"))\n",
    "b2 = int(input(\"Enter the second side of the second triangle:\"))\n",
    "c2 = int(input(\"Enter the third side of the second triangle:\"))\n",
    "\n",
    "# To calculate the area of two arbitrary triangles\n",
    "area1 = area_triangle(a1, b1, c1)\n",
    "area2 = area_triangle(a2, b2, c2)\n",
    "\n",
    "# To calculate the total area enclosed by both triangles\n",
    "t_area = area1 + area2\n",
    "\n",
    "# Each triangle's contribution percentage\n",
    "contr_percent1 =(area1/t_area)*100\n",
    "contr_percent2=(area2/t_area)*100\n",
    "print(f\"Area of the first triangle: {area1:.2f}\")\n",
    "print(f\"Area of the second triangle: {area2:.2f}\")\n",
    "print(f\"Total area enclosed by both triangles: {t_area:.2f}\")\n",
    "print(f\"First triangle's contribution to the total area: {contr_percent1:.2f}%\")\n",
    "print(f\"Second triangle's contribution to the total area: {contr_percent2:.2f}%\")\n"
   ]
  },
  {
   "cell_type": "code",
   "execution_count": 74,
   "id": "208ce0ad",
   "metadata": {},
   "outputs": [
    {
     "name": "stdout",
     "output_type": "stream",
     "text": [
      "Name: John Doe\n",
      "Age: 30\n",
      "Blood Group: A+\n",
      "--------------------\n",
      "Name: Jane Smith\n",
      "Age: 25\n",
      "Blood Group: B-\n",
      "--------------------\n",
      "Name: Emily Davis\n",
      "Age: 40\n",
      "Blood Group: O+\n",
      "--------------------\n",
      "Name: Michael Brown\n",
      "Age: 35\n",
      "Blood Group: AB-\n",
      "--------------------\n",
      "Name: William Johnson\n",
      "Age: 28\n",
      "Blood Group: A-\n",
      "--------------------\n",
      "Name: Emma Wilson\n",
      "Age: 22\n",
      "Blood Group: B+\n",
      "--------------------\n",
      "Name: Oliver Martinez\n",
      "Age: 33\n",
      "Blood Group: O-\n",
      "--------------------\n",
      "Name: Sophia Anderson\n",
      "Age: 27\n",
      "Blood Group: AB+\n",
      "--------------------\n",
      "Name: James Thomas\n",
      "Age: 45\n",
      "Blood Group: A+\n",
      "--------------------\n",
      "Name: Isabella Lee\n",
      "Age: 38\n",
      "Blood Group: B-\n",
      "--------------------\n"
     ]
    }
   ],
   "source": [
    "# 8. Code to print the contents of the dictionary (name,age and blood) separated by a line of dashes\n",
    "people=[\n",
    "   {\"name\":\"John Doe\",\"age\":30,\"blood_group\":\"A+\"},\n",
    "   {\"name\":\"Jane Smith\",\"age\":25,\"blood_group\":\"B-\"},\n",
    "   {\"name\":\"Emily Davis\",\"age\":40,\"blood_group\":\"O+\"},\n",
    "   {\"name\":\"Michael Brown\",\"age\":35,\"blood_group\":\"AB-\"},\n",
    "   {\"name\":\"William Johnson\",\"age\":28,\"blood_group\":\"A-\"},\n",
    "   {\"name\":\"Emma Wilson\",\"age\":22,\"blood_group\":\"B+\"},\n",
    "   {\"name\":\"Oliver Martinez\",\"age\":33,\"blood_group\":\"O-\"},\n",
    "   {\"name\":\"Sophia Anderson\",\"age\":27,\"blood_group\":\"AB+\"},\n",
    "   {\"name\":\"James Thomas\",\"age\":45,\"blood_group\":\"A+\"},\n",
    "   {\"name\":\"Isabella Lee\",\"age\":38,\"blood_group\":\"B-\"}]\n",
    "\n",
    "for person in people:\n",
    "    print(f\"Name: {person['name']}\")\n",
    "    print(f\"Age: {person['age']}\")\n",
    "    print(f\"Blood Group: {person['blood_group']}\")\n",
    "    print('-' * 20)"
   ]
  },
  {
   "cell_type": "code",
   "execution_count": 85,
   "id": "2e7e62fd",
   "metadata": {},
   "outputs": [
    {
     "name": "stdout",
     "output_type": "stream",
     "text": [
      "Input: ('python', 'learn', 'includehelp')\n",
      "The rear element from the tuple:['n', 'n', 'p']\n"
     ]
    }
   ],
   "source": [
    "# 9. To extract the rear elements from a tuple\n",
    "tup_str=(\"python\",\"learn\",\"includehelp\")\n",
    "print(\"Input: \" + str(tup_str))\n",
    "rear_element= [s[-1] for s in tup_str[::-1]]\n",
    "rear_element.reverse()\n",
    "print(\"The rear element from the tuple:\" + str(rear_element))"
   ]
  },
  {
   "cell_type": "code",
   "execution_count": 91,
   "id": "1d4447be",
   "metadata": {},
   "outputs": [
    {
     "name": "stdout",
     "output_type": "stream",
     "text": [
      "Enter the Month: Feb\n",
      "Enter the year:2023\n",
      "The number of days in Feb is: 28\n"
     ]
    }
   ],
   "source": [
    "# 10. To convert input month name to the number of days in that month (inclusive of leap year)\n",
    "month=[\"Jan\",\"Feb\",\"Mar\",\"Apr\",\"May\",\"Jun\",\"Jul\"]\n",
    "\n",
    "def leap_year(year):\n",
    "    return (year % 4== 0 and year % 100 != 0) or (year % 400 == 0) #leap years are divisible by 4 and not divisible by 100 unless divisible by 400\n",
    "\n",
    "def month_day(month, year=None):\n",
    "    lst= [(\"Jan\", 31),(\"Feb\", 29 if year and is_leap_year(year) else 28),(\"Mar\", 31),(\"Apr\", 30),(\"May\", 31),(\"Jun\", 30),(\"Jul\", 31),(\"Aug\", 31),(\"Sept\", 30),(\"Oct\", 31), (\"Nov\", 30),(\"Dec\", 31)]\n",
    "    month_dict = dict(lst)\n",
    "    return month_dict.get(month,\"Invalid !\")\n",
    "\n",
    "month_name = input(\"Enter the Month: \")\n",
    "\n",
    "if month_name == \"Feb\":\n",
    "    year= int(input(\"Enter the year:\"))\n",
    "    day= month_day(month_name, year)\n",
    "else:\n",
    "    day= month_day(month_name)\n",
    "\n",
    "if day== \"Invalid !\":\n",
    "    print(day)\n",
    "else:\n",
    "    print(f\"The number of days in {month_name} is: {day}\")\n"
   ]
  }
 ],
 "metadata": {
  "kernelspec": {
   "display_name": "Python 3 (ipykernel)",
   "language": "python",
   "name": "python3"
  },
  "language_info": {
   "codemirror_mode": {
    "name": "ipython",
    "version": 3
   },
   "file_extension": ".py",
   "mimetype": "text/x-python",
   "name": "python",
   "nbconvert_exporter": "python",
   "pygments_lexer": "ipython3",
   "version": "3.10.9"
  }
 },
 "nbformat": 4,
 "nbformat_minor": 5
}
