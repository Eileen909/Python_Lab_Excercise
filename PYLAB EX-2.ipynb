{
 "cells": [
  {
   "cell_type": "code",
   "execution_count": 9,
   "id": "7c8c19de",
   "metadata": {},
   "outputs": [
    {
     "name": "stdout",
     "output_type": "stream",
     "text": [
      "1st list created using List Comprehensions is [1, 2, 3, 4, 5, 6, 7, 8, 9, 10, 11, 12, 13, 14, 15, 16, 17, 18, 19, 20]\n",
      "Maximum value in the list: 20\n",
      "Minimum value in the list: 1\n",
      "Sum of all the elements in the list: 210\n",
      "Average of the list: 10.5\n",
      "Median of the list: 10.5\n",
      "\n",
      "2nd list created using List Comprehensions is [1, 8, 27, 64, 125, 216, 343, 512, 729, 1000, 1331, 1728, 2197, 2744, 3375, 4096, 4913, 5832, 6859, 8000]\n",
      "Maximum value in the list: 8000\n",
      "Minimum value in the list: 1\n",
      "Sum of all the elements in the list: 44100\n",
      "Average of the list: 2205.0\n",
      "Median of the list: 1165.5\n",
      "\n",
      "3rd list created using List Comprehensions is [1, 3, 5, 7, 9, 11, 13, 15, 17, 19]\n",
      "Maximum value in the list: 19\n",
      "Minimum value in the list: 1\n",
      "Sum of all the elements in the list: 100\n",
      "Average of the list: 10.0\n",
      "Median of the list: 10.0\n"
     ]
    }
   ],
   "source": [
    "# 1. (a)\n",
    "import module_ListFunction\n",
    "\n",
    "def main():\n",
    "    lst1 = [x for x in range(1, 21)]\n",
    "    print(\"1st list created using List Comprehensions is\", lst1)\n",
    "    print(\"Maximum value in the list:\",module_ListFunction.list_max(lst1))\n",
    "    print(\"Minimum value in the list:\",module_ListFunction.list_min(lst1))\n",
    "    print(\"Sum of all the elements in the list:\",module_ListFunction.list_sum(lst1))\n",
    "    print(\"Average of the list:\",module_ListFunction.list_avg(lst1))\n",
    "    print(\"Median of the list:\",module_ListFunction.list_median(lst1))\n",
    "\n",
    "    lst2 = [x**3 for x in range(1, 21)]\n",
    "    print(\"\\n2nd list created using List Comprehensions is\", lst2)\n",
    "    print(\"Maximum value in the list:\",module_ListFunction.list_max(lst2))\n",
    "    print(\"Minimum value in the list:\",module_ListFunction.list_min(lst2))\n",
    "    print(\"Sum of all the elements in the list:\",module_ListFunction.list_sum(lst2))\n",
    "    print(\"Average of the list:\",module_ListFunction.list_avg(lst2))\n",
    "    print(\"Median of the list:\",module_ListFunction.list_median(lst2))\n",
    "\n",
    "\n",
    "    lst3 = [x for x in range(1, 21) if x % 2 != 0]\n",
    "    print(\"\\n3rd list created using List Comprehensions is\", lst3)\n",
    "    print(\"Maximum value in the list:\",module_ListFunction.list_max(lst3))\n",
    "    print(\"Minimum value in the list:\",module_ListFunction.list_min(lst3))\n",
    "    print(\"Sum of all the elements in the list:\",module_ListFunction.list_sum(lst3))\n",
    "    print(\"Average of the list:\",module_ListFunction.list_avg(lst3))\n",
    "    print(\"Median of the list:\",module_ListFunction.list_median(lst3))\n",
    "    \n",
    "if __name__ == \"__main__\":\n",
    "    main()\n"
   ]
  },
  {
   "cell_type": "code",
   "execution_count": null,
   "id": "c22fddd7",
   "metadata": {},
   "outputs": [],
   "source": [
    "# 1. (b) Another script named ‘main_ListOpeartions.py’ is created and ‘module_ListFunction’ is imported.\n"
   ]
  },
  {
   "cell_type": "code",
   "execution_count": null,
   "id": "ea63360f",
   "metadata": {},
   "outputs": [],
   "source": [
    "# 1.(c) example are executed in the file"
   ]
  },
  {
   "cell_type": "code",
   "execution_count": 1,
   "id": "6813a26a",
   "metadata": {},
   "outputs": [
    {
     "name": "stdout",
     "output_type": "stream",
     "text": [
      "After adding a new element to set1: {10, 1, 2, 3}\n",
      "After removing an element from set1:: {10, 1, 2, 3}\n",
      "Union: {1, 2, 3, 10}\n",
      "Intersection: {1, 2, 3}\n",
      "Difference of both the set is {10}\n",
      "Is {1, 2} a subset of set1: True\n",
      "Length of set1: 4\n",
      "Symmetric Difference: {10}\n",
      "Power Set of set1: {frozenset({2}), frozenset({3, 1, 10, 2}), frozenset({10, 2}), frozenset({2, 3}), frozenset({1, 2}), frozenset({1, 2, 3}), frozenset({1, 10, 2}), frozenset({1, 10, 3}), frozenset({3, 10, 2}), frozenset({10, 3}), frozenset({10}), frozenset({3}), frozenset({1}), frozenset({1, 3}), frozenset(), frozenset({1, 10})}\n",
      "Unique Subsets of set1: {frozenset({2}), frozenset({3, 1, 10, 2}), frozenset({10, 2}), frozenset({2, 3}), frozenset({1, 2}), frozenset({1, 2, 3}), frozenset({1, 10, 2}), frozenset({1, 10, 3}), frozenset({3, 10, 2}), frozenset({10, 3}), frozenset({10}), frozenset({3}), frozenset({1}), frozenset({1, 3}), frozenset(), frozenset({1, 10})}\n"
     ]
    }
   ],
   "source": [
    "# 2.\n",
    "from set_operations import *\n",
    "\n",
    "set1 = {1,2,3}\n",
    "set2 = {3,2,1}\n",
    "\n",
    "# 2.(a) Add element to a set ensuring no errors occurs if the element is already present.\n",
    "add_element(set1, 10)\n",
    "print(\"After adding a new element to set1:\", set1)\n",
    "\n",
    "# 2.(b) Remove element of a set ensuring no errors occurs if the element is already present.\n",
    "remove_element(set1, 4)\n",
    "print(\"After removing an element from set1::\", set1)\n",
    "\n",
    "# 2.(c) To return the union and intersection of two sets\n",
    "union, intersection = union_intersection(set1, set2)\n",
    "print(\"Union:\", union)\n",
    "print(\"Intersection:\", intersection)\n",
    "\n",
    "# 2.(d) Difference between set1 and set2\n",
    "diff = difference(set1, set2)\n",
    "print(\"Difference of both the set is\", diff)\n",
    "\n",
    "# 2.(e) To check if set1 is a subset of s2\n",
    "is_sub = is_subset({1, 2}, set1)\n",
    "print(\"Is {1, 2} a subset of set1:\", is_sub)\n",
    "\n",
    "# 2.(f) Length of set without using len()\n",
    "length = length_of_set(set1)\n",
    "print(\"Length of set1:\", length)\n",
    "\n",
    "# 2.(g) Symmetric difference of the two sets\n",
    "sym_diff = symmetric_difference(set1, set2)\n",
    "print(\"Symmetric Difference:\", sym_diff)\n",
    "\n",
    "# 2.(h) Power set of the set\n",
    "pset = power_set(set1)\n",
    "print(\"Power Set of set1:\", pset)\n",
    "\n",
    "# 2.(i) Unique subsets from the power set)\n",
    "unique_subs = unique_subsets(set1)\n",
    "print(\"Unique Subsets of set1:\", unique_subs)\n"
   ]
  },
  {
   "cell_type": "code",
   "execution_count": 4,
   "id": "910cc0cc",
   "metadata": {},
   "outputs": [
    {
     "name": "stdout",
     "output_type": "stream",
     "text": [
      "Merged dictionary: {'a': 1, 'b': 2, 'c': 3, 'd': 4, 'e': 5}\n",
      "Common keys: {'c'}\n",
      "Inverted dictionary: {1: 'a', 2: 'b', 3: 'c'}\n",
      "Common key-value pairs: {}\n"
     ]
    }
   ],
   "source": [
    "# 3. # main.py\n",
    "import dictionary_operations as do\n",
    "\n",
    "dict_1 = {'a': 1, 'b': 2, 'c': 3}\n",
    "dict_2 = {'b': 2, 'c': 4, 'd': 4}\n",
    "dict_3 = {'c': 3, 'd': 4, 'e': 5}\n",
    "\n",
    "# 3.(a) To merge multiple dictionaries\n",
    "merged = do.merging_Dict(dict_1, dict_2, dict_3)\n",
    "print(f\"Merged dictionary: {merged}\")\n",
    "\n",
    "# 3.(b) Find common keys in the multiple dictionaries\n",
    "common = do.common_keys(dict_1, dict_2, dict_3)\n",
    "print(f\"Common keys: {common}\")\n",
    "\n",
    "# 3.(c) Invert a dictionary, swapping keys and values\n",
    "inverted = do.invert_dict(dict_1)\n",
    "print(f\"Inverted dictionary: {inverted}\")\n",
    "\n",
    "#3.(d) Find common key-value pairs across multiple dictionaries\n",
    "common_pairs = do.common_key_value_pairs(dict_1, dict_2, dict_3)\n",
    "print(f\"Common key-value pairs: {common_pairs}\")\n"
   ]
  },
  {
   "cell_type": "code",
   "execution_count": 1,
   "id": "466aa120",
   "metadata": {},
   "outputs": [
    {
     "name": "stdout",
     "output_type": "stream",
     "text": [
      "Book Details: {'ISBN': '9350944365', 'title': 'Automate the Boring Stuff with Python: Practical Programming for Total Beginners', 'author': 'Al Sweigart', 'publisher': 'Pearsons', 'year': 2021, 'volume': None, 'topic': None}\n",
      "Search Results: [{'ISBN': '9350944306', 'title': 'Data Analytics with Hadoop: An Introduction for Data Scientists', 'author': 'Jenny Kim', 'publisher': 'ASD', 'year': 2020, 'volume': None, 'topic': None}]\n",
      "All Books: [{'ISBN': '9350944308', 'title': 'Handbook of Computer Science & IT', 'author': 'Arihant Experts', 'publisher': 'Wiley', 'year': 2021, 'volume': None, 'topic': None}, {'ISBN': '9350947600', 'title': 'Data Structures and Algorithm Analysis in C++', 'author': 'Weiss', 'publisher': 'Pearson', 'year': 2021, 'volume': None, 'topic': None}, {'ISBN': '9350944344', 'title': 'Introduction to Machine Learning', 'author': 'Alpaydin', 'publisher': 'MIT Press', 'year': 2021, 'volume': None, 'topic': None}, {'ISBN': '9350944378', 'title': 'Python for Data Analysis', 'author': 'Wes McKinney', 'publisher': 'ITM Press', 'year': 2021, 'volume': None, 'topic': None}, {'ISBN': '9350944304', 'title': 'Design Patterns in Python', 'author': 'Sergei Solntsev', 'publisher': 'TIME Press', 'year': 2021, 'volume': None, 'topic': None}, {'ISBN': '9350944301', 'title': 'Data Science from Scratch: First Principles with Python', 'author': 'Joel Grus', 'publisher': 'Penguin', 'year': 2021, 'volume': None, 'topic': None}, {'ISBN': '9350944331', 'title': 'Applied Text Analysis with Python: Enabling Language-Aware Data Products with Machine Learning', 'author': 'Tony Ojeda', 'publisher': 'Old Books', 'year': 2021, 'volume': None, 'topic': None}, {'ISBN': '9350944380', 'title': 'Python Data Science Handbook: Essential Tools for Working with Data', 'author': 'Jake VanderPlas', 'publisher': 'ABC', 'year': 2023, 'volume': None, 'topic': None}, {'ISBN': '9350944365', 'title': 'Automate the Boring Stuff with Python: Practical Programming for Total Beginners', 'author': 'Al Sweigart', 'publisher': 'Pearsons', 'year': 2021, 'volume': None, 'topic': None}, {'ISBN': '9350944002', 'title': 'Python Data Science Handbook: Essential Tools for Working with Data', 'author': 'Jake VanderPlas', 'publisher': 'JB Pass', 'year': 2024, 'volume': None, 'topic': None}, {'ISBN': '9350944230', 'title': 'Introduction to Algorithms', 'author': 'Ronald L. Rivest', 'publisher': 'Abd Books', 'year': 2021, 'volume': None, 'topic': None}, {'ISBN': '9350944365', 'title': 'Data Structures and Algorithms Made Easy', 'author': 'Narsimha Karumanchi', 'publisher': 'XYZ', 'year': 2020, 'volume': None, 'topic': None}, {'ISBN': '9350944309', 'title': 'Algorithms', 'author': 'Kevin Wayne', 'publisher': 'Csc', 'year': 2020, 'volume': None, 'topic': None}, {'ISBN': '9350944311', 'title': 'Grokking Algorithms', 'author': 'Aditya Bhargava', 'publisher': 'Sda', 'year': 2021, 'volume': None, 'topic': None}, {'ISBN': '9350944305', 'title': 'Algorithms in a Nutshell', 'author': 'Gary Pollice', 'publisher': 'Uyt', 'year': 2021, 'volume': None, 'topic': None}, {'ISBN': '9350944302', 'title': 'Data Science and Machine Learning using Python', 'author': 'Reema Thareja', 'publisher': 'Ain', 'year': 2021, 'volume': None, 'topic': None}, {'ISBN': '9350944307', 'title': 'Problem-Solving with Data Structures and Algorithms using Python', 'author': 'David L. Ranum', 'publisher': 'Write', 'year': 2021, 'volume': None, 'topic': None}, {'ISBN': '9350944234', 'title': 'Data Structures and Algorithms', 'author': 'Robert Lafore', 'publisher': 'Aer', 'year': 2021, 'volume': None, 'topic': None}, {'ISBN': '9350944321', 'title': 'A Creative Approach: Introduction to Algorithms', 'author': 'Udi Manber', 'publisher': 'Penguin', 'year': 2021, 'volume': None, 'topic': None}, {'ISBN': '9350944300', 'title': 'Data Structures and Algorithms in Python', 'author': 'Michael T. Goodrich', 'publisher': 'MTG Books', 'year': 2021, 'volume': None, 'topic': None}, {'ISBN': '9350944387', 'title': 'Python Machine Learning: Machine Learning and Deep Learning with Python, scikit-learn, and TensorFlow', 'author': 'Sebastian Raschka', 'publisher': 'Weily', 'year': 2021, 'volume': None, 'topic': None}, {'ISBN': '9350944354', 'title': 'Fluent Python: Clear, Concise, and Effective Programming', 'author': 'Luciano Ramalho', 'publisher': 'Trunit', 'year': 2024, 'volume': None, 'topic': None}, {'ISBN': '9350944332', 'title': 'Python Data Science Handbook: Essential Tools for Working with Data', 'author': 'Jake VanderPlas', 'publisher': 'Wsr', 'year': 2022, 'volume': None, 'topic': None}, {'ISBN': '9350944306', 'title': 'Data Analytics with Hadoop: An Introduction for Data Scientists', 'author': 'Jenny Kim', 'publisher': 'ASD', 'year': 2020, 'volume': None, 'topic': None}]\n",
      "Is Book Available: True\n"
     ]
    }
   ],
   "source": [
    "# 4.\n",
    "from LibraryManager import LibraryManager\n",
    "from LibraryManager import LibraryManager\n",
    "\n",
    "library = LibraryManager()\n",
    "sample_books = [\n",
    "    {\"ISBN\": \"9350944308\", \"title\": \"Handbook of Computer Science & IT\", \"author\": \"Arihant Experts\", \"publisher\": \"Wiley\", \"year\": 2021},\n",
    "    {\"ISBN\": \"9350947600\", \"title\": \"Data Structures and Algorithm Analysis in C++\", \"author\": \"Weiss\", \"publisher\": \"Pearson\", \"year\": 2021},\n",
    "    {\"ISBN\": \"9350944344\", \"title\": \"Introduction to Machine Learning\", \"author\": \"Alpaydin\", \"publisher\": \"MIT Press\", \"year\": 2021},\n",
    "    {\"ISBN\": \"9350944378\", \"title\": \"Python for Data Analysis\", \"author\": \"Wes McKinney\", \"publisher\": \"ITM Press\", \"year\": 2021},\n",
    "    {\"ISBN\": \"9350944304\", \"title\": \"Design Patterns in Python\", \"author\": \"Sergei Solntsev\", \"publisher\": \"TIME Press\", \"year\": 2021},\n",
    "    {\"ISBN\": \"9350944301\", \"title\": \"Data Science from Scratch: First Principles with Python\", \"author\": \"Joel Grus\", \"publisher\": \"Penguin\", \"year\": 2021},\n",
    "    {\"ISBN\": \"9350944331\", \"title\": \"Applied Text Analysis with Python: Enabling Language-Aware Data Products with Machine Learning\", \"author\": \"Tony Ojeda\", \"publisher\": \"Old Books\", \"year\": 2021},\n",
    "    {\"ISBN\": \"9350944380\", \"title\": \"Python Data Science Handbook: Essential Tools for Working with Data\", \"author\": \"Jake VanderPlas\", \"publisher\": \"ABC\", \"year\": 2023},\n",
    "    {\"ISBN\": \"9350944365\", \"title\": \"Automate the Boring Stuff with Python: Practical Programming for Total Beginners\", \"author\": \"Al Sweigart\", \"publisher\": \"Pearsons\", \"year\": 2021},\n",
    "    {\"ISBN\": \"9350944002\", \"title\": \"Python Data Science Handbook: Essential Tools for Working with Data\", \"author\": \"Jake VanderPlas\", \"publisher\": \"JB Pass\", \"year\": 2024},\n",
    "    {\"ISBN\": \"9350944230\", \"title\": \"Introduction to Algorithms\", \"author\": \"Ronald L. Rivest\", \"publisher\": \"Abd Books\", \"year\": 2021},\n",
    "    {\"ISBN\": \"9350944365\", \"title\": \"Data Structures and Algorithms Made Easy\", \"author\": \"Narsimha Karumanchi\", \"publisher\": \"XYZ\", \"year\": 2020},\n",
    "    {\"ISBN\": \"9350944309\", \"title\": \"Algorithms\", \"author\": \"Kevin Wayne\", \"publisher\": \"Csc\", \"year\": 2020},\n",
    "    {\"ISBN\": \"9350944311\", \"title\": \"Grokking Algorithms\", \"author\": \"Aditya Bhargava\", \"publisher\": \"Sda\", \"year\": 2021},\n",
    "    {\"ISBN\": \"9350944305\", \"title\": \"Algorithms in a Nutshell\", \"author\": \"Gary Pollice\", \"publisher\": \"Uyt\", \"year\": 2021},\n",
    "    {\"ISBN\": \"9350944302\", \"title\": \"Data Science and Machine Learning using Python\", \"author\": \"Reema Thareja\", \"publisher\": \"Ain\", \"year\": 2021},\n",
    "    {\"ISBN\": \"9350944307\", \"title\": \"Problem-Solving with Data Structures and Algorithms using Python\", \"author\": \"David L. Ranum\", \"publisher\": \"Write\", \"year\": 2021},\n",
    "    {\"ISBN\": \"9350944234\", \"title\": \"Data Structures and Algorithms\", \"author\": \"Robert Lafore\", \"publisher\": \"Aer\", \"year\": 2021},\n",
    "    {\"ISBN\": \"9350944321\", \"title\": \"A Creative Approach: Introduction to Algorithms\", \"author\": \"Udi Manber\", \"publisher\": \"Penguin\", \"year\": 2021},\n",
    "    {\"ISBN\": \"9350944312\", \"title\": \"Data Science and Machine Learning using Python\", \"author\": \"Reema Thareja\", \"publisher\": \"RT Books\", \"year\": 2021},\n",
    "    {\"ISBN\": \"9350944300\", \"title\": \"Data Structures and Algorithms in Python\", \"author\": \"Michael T. Goodrich\", \"publisher\": \"MTG Books\", \"year\": 2021},\n",
    "    {\"ISBN\": \"9350944387\", \"title\": \"Python Machine Learning: Machine Learning and Deep Learning with Python, scikit-learn, and TensorFlow\", \"author\": \"Sebastian Raschka\", \"publisher\": \"Weily\", \"year\": 2021},\n",
    "    {\"ISBN\": \"9350944354\", \"title\": \"Fluent Python: Clear, Concise, and Effective Programming\", \"author\": \"Luciano Ramalho\", \"publisher\": \"Trunit\", \"year\": 2024},\n",
    "    {\"ISBN\": \"9350944332\", \"title\": \"Python Data Science Handbook: Essential Tools for Working with Data\", \"author\": \"Jake VanderPlas\", \"publisher\": \"Wsr\", \"year\": 2022},\n",
    "    {\"ISBN\": \"9350944306\", \"title\": \"Data Analytics with Hadoop: An Introduction for Data Scientists\", \"author\": \"Jenny Kim\", \"publisher\": \"ASD\", \"year\": 2020}\n",
    "]\n",
    "\n",
    "\n",
    "for book in sample_books:\n",
    "    library.add_book(**book)\n",
    "\n",
    "library.remove_book(\"9350944312\")\n",
    "\n",
    "book_details = library.book_details(\"9350944365\")\n",
    "print(\"Book Details:\", book_details)\n",
    "\n",
    "search_results = library.search_books(\"Data Analytics with Hadoop: An Introduction for Data Scientists\")\n",
    "print(\"Search Results:\", search_results)\n",
    "\n",
    "all_books = library.list_books()\n",
    "print(\"All Books:\", all_books)\n",
    "\n",
    "library.update_details(\"9350944308\", title=\"A guide to Computer Science & Information Technology\")\n",
    "\n",
    "is_available = library.is_book_available(\"9350947600\")\n",
    "print(\"Is Book Available:\", is_available)\n",
    "\n"
   ]
  },
  {
   "cell_type": "code",
   "execution_count": 1,
   "id": "0660584f",
   "metadata": {},
   "outputs": [
    {
     "name": "stdout",
     "output_type": "stream",
     "text": [
      "Highest temperature recorded: 37°C\n",
      "Lowest temperature recorded: 20°C\n",
      "Number of days with temperatures above 30°C: 7\n",
      "Average humidity over the period: 68.80%\n"
     ]
    }
   ],
   "source": [
    "# 5. \n",
    "weather_data = [{\"Date\": \"2024-07-01\", \"Max Temperature (in Celsius)\": 30, \"Min Temperature (in Celsius)\": 20, \"Humidity (in percentage)\": 70},\n",
    "    {\"Date\": \"2024-07-02\", \"Max Temperature (in Celsius)\": 35, \"Min Temperature (in Celsius)\": 24, \"Humidity (in percentage)\": 65},\n",
    "    {\"Date\": \"2024-07-03\", \"Max Temperature (in Celsius)\": 33, \"Min Temperature (in Celsius)\": 23, \"Humidity (in percentage)\": 75},\n",
    "    {\"Date\": \"2024-07-04\", \"Max Temperature (in Celsius)\": 28, \"Min Temperature (in Celsius)\": 21, \"Humidity (in percentage)\": 70},\n",
    "    {\"Date\": \"2024-07-05\", \"Max Temperature (in Celsius)\": 37, \"Min Temperature (in Celsius)\": 26, \"Humidity (in percentage)\": 80},\n",
    "    {\"Date\": \"2024-07-06\", \"Max Temperature (in Celsius)\": 31, \"Min Temperature (in Celsius)\": 22, \"Humidity (in percentage)\": 68},\n",
    "    {\"Date\": \"2024-07-07\", \"Max Temperature (in Celsius)\": 31, \"Min Temperature (in Celsius)\": 23, \"Humidity (in percentage)\": 73},\n",
    "    {\"Date\": \"2024-07-08\", \"Max Temperature (in Celsius)\": 29, \"Min Temperature (in Celsius)\": 21, \"Humidity (in percentage)\": 75},\n",
    "    {\"Date\": \"2024-07-09\", \"Max Temperature (in Celsius)\": 36, \"Min Temperature (in Celsius)\": 26, \"Humidity (in percentage)\": 50},\n",
    "    {\"Date\": \"2024-07-10\", \"Max Temperature (in Celsius)\": 31, \"Min Temperature (in Celsius)\": 23, \"Humidity (in percentage)\": 62},]\n",
    "\n",
    "def highest_lowest_temp(data):\n",
    "    Max_temp = max(entry[\"Max Temperature (in Celsius)\"] for entry in data)\n",
    "    Min_temp = min(entry[\"Min Temperature (in Celsius)\"] for entry in data)\n",
    "    return Max_temp, Min_temp\n",
    "\n",
    "def count_temp_30C(data):\n",
    "    count = sum(1 for entry in data if entry[\"Max Temperature (in Celsius)\"] > 30)\n",
    "    return count\n",
    "\n",
    "def avg_humidity(data):\n",
    "    sum_humidity = sum(entry[\"Humidity (in percentage)\"] for entry in data)\n",
    "    avg_humidity = sum_humidity / len(data)\n",
    "    return avg_humidity\n",
    "\n",
    "highest_temp, lowest_temp = highest_lowest_temp(weather_data)\n",
    "print(f\"Highest temperature recorded: {highest_temp}°C\")\n",
    "print(f\"Lowest temperature recorded: {lowest_temp}°C\")\n",
    "\n",
    "days_above_30 = count_temp_30C(weather_data)\n",
    "print(f\"Number of days with temperatures above 30°C: {days_above_30}\")\n",
    "average_humidity = avg_humidity(weather_data)\n",
    "print(f\"Average humidity over the period: {average_humidity:.2f}%\")\n"
   ]
  },
  {
   "cell_type": "code",
   "execution_count": null,
   "id": "35bfcb2f",
   "metadata": {},
   "outputs": [],
   "source": []
  }
 ],
 "metadata": {
  "kernelspec": {
   "display_name": "Python 3 (ipykernel)",
   "language": "python",
   "name": "python3"
  },
  "language_info": {
   "codemirror_mode": {
    "name": "ipython",
    "version": 3
   },
   "file_extension": ".py",
   "mimetype": "text/x-python",
   "name": "python",
   "nbconvert_exporter": "python",
   "pygments_lexer": "ipython3",
   "version": "3.10.9"
  }
 },
 "nbformat": 4,
 "nbformat_minor": 5
}
